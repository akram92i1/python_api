{
 "cells": [
  {
   "cell_type": "code",
   "execution_count": 14,
   "id": "45fae771-53e8-440b-9ed7-548f848a20f3",
   "metadata": {
    "tags": []
   },
   "outputs": [],
   "source": [
    "#Libary..  \n",
    "from ortools.sat.python import cp_model\n",
    "from pydantic import BaseModel\n",
    "from typing import List"
   ]
  },
  {
   "cell_type": "code",
   "execution_count": 15,
   "id": "232362a3-9906-4bdb-9b0c-bd3dee4048cc",
   "metadata": {
    "tags": []
   },
   "outputs": [],
   "source": [
    "# Define input data models\n",
    "class Task(BaseModel):\n",
    "    id: int\n",
    "    name: str\n",
    "    priority: int\n",
    "    duration: int\n",
    "    deadline: int\n",
    "    \n",
    "class Schedule(BaseModel):\n",
    "    task_id: int\n",
    "    start_time: int\n",
    "    end_time: int\n",
    "    \n",
    "class SchedulerInput(BaseModel):\n",
    "    tasks: List[Task]\n",
    "    max_time: int"
   ]
  },
  {
   "cell_type": "code",
   "execution_count": 79,
   "id": "e15e3e85-2a34-47b5-9463-ae34dc52d509",
   "metadata": {
    "tags": []
   },
   "outputs": [],
   "source": [
    "def optimize_schedule(input_data):\n",
    "    model = cp_model.CpModel()\n",
    "    max_time = input_data.max_time\n",
    "    tasks = input_data.tasks\n",
    "\n",
    "    # Decision variables\n",
    "    start_vars = {}\n",
    "    end_vars = {}\n",
    "\n",
    "    for task in tasks:\n",
    "        start_vars[task.id] = model.NewIntVar(0, max_time, f'start_{task.id}')\n",
    "        end_vars[task.id] = model.NewIntVar(0, max_time, f'end_{task.id}')\n",
    "        model.Add(end_vars[task.id] == start_vars[task.id] + task.duration)\n",
    "        model.Add(end_vars[task.id] <= task.deadline)  # Deadline constraint\n",
    "\n",
    "    # Create interval variables (fixing the missing argument)\n",
    "    intervals = []\n",
    "    for task in tasks:\n",
    "        interval_var = model.NewIntervalVar(\n",
    "            start_vars[task.id],   # Start time variable\n",
    "            task.duration,         # Task duration\n",
    "            end_vars[task.id],     # End time variable\n",
    "            f'interval_{task.id}'  # Name of the interval variable\n",
    "        )\n",
    "        intervals.append(interval_var)\n",
    "\n",
    "    # No overlapping tasks\n",
    "    model.AddNoOverlap(intervals)\n",
    "\n",
    "    # Solve the model and get the actual start and end times\n",
    "    solver = cp_model.CpSolver()\n",
    "    status = solver.Solve(model)\n",
    "\n",
    "    if status == cp_model.OPTIMAL or status == cp_model.FEASIBLE:\n",
    "        # Extract and return the scheduled tasks with start and end times\n",
    "        scheduled_tasks = []\n",
    "        for task in tasks:\n",
    "            scheduled_task = {\n",
    "                \"task_id\": task.id,\n",
    "                \"start_time\": solver.Value(start_vars[task.id]),\n",
    "                \"end_time\": solver.Value(end_vars[task.id])\n",
    "            }\n",
    "            scheduled_tasks.append(scheduled_task)\n",
    "        return scheduled_tasks\n",
    "    else:\n",
    "        raise Exception(\"No feasible solution found.\")\n"
   ]
  },
  {
   "cell_type": "code",
   "execution_count": 82,
   "id": "d0d49fc6-cbe7-448a-acbc-1dd6e09e14a3",
   "metadata": {},
   "outputs": [],
   "source": [
    "def test_single_task_within_deadline():\n",
    "    # Setup: One task with duration 2 and deadline 3\n",
    "    tasks = [Task(id=1, name=\"Task 1\", priority=1, duration=2, deadline=3)]\n",
    "    input_data = SchedulerInput(tasks=tasks, max_time=1)\n",
    "    # Call the function\n",
    "    schedule = optimize_schedule(input_data)\n",
    "    \n",
    "    # Ensure at least one task is scheduled\n",
    "    assert len(schedule) == 1\n",
    "    task = schedule[0]\n",
    "    # Verify the task's timing constraints\n",
    "    assert task[\"task_id\"] == 1\n",
    "    assert task[\"end_time\"] == task[\"start_time\"] + 2  # Duration check\n",
    "    assert task[\"end_time\"] <= 3  # Deadline constraint check\n",
    "    print(\"Scheduled Task:\", task)"
   ]
  },
  {
   "cell_type": "code",
   "execution_count": 83,
   "id": "3338b96e-255c-4c7d-a647-3fa480844760",
   "metadata": {
    "tags": []
   },
   "outputs": [
    {
     "ename": "Exception",
     "evalue": "No feasible solution found.",
     "output_type": "error",
     "traceback": [
      "\u001b[1;31m---------------------------------------------------------------------------\u001b[0m",
      "\u001b[1;31mException\u001b[0m                                 Traceback (most recent call last)",
      "Cell \u001b[1;32mIn[83], line 1\u001b[0m\n\u001b[1;32m----> 1\u001b[0m \u001b[43mtest_single_task_within_deadline\u001b[49m\u001b[43m(\u001b[49m\u001b[43m)\u001b[49m\n",
      "Cell \u001b[1;32mIn[82], line 6\u001b[0m, in \u001b[0;36mtest_single_task_within_deadline\u001b[1;34m()\u001b[0m\n\u001b[0;32m      4\u001b[0m input_data \u001b[38;5;241m=\u001b[39m SchedulerInput(tasks\u001b[38;5;241m=\u001b[39mtasks, max_time\u001b[38;5;241m=\u001b[39m\u001b[38;5;241m1\u001b[39m)\n\u001b[0;32m      5\u001b[0m \u001b[38;5;66;03m# Call the function\u001b[39;00m\n\u001b[1;32m----> 6\u001b[0m schedule \u001b[38;5;241m=\u001b[39m \u001b[43moptimize_schedule\u001b[49m\u001b[43m(\u001b[49m\u001b[43minput_data\u001b[49m\u001b[43m)\u001b[49m\n\u001b[0;32m      8\u001b[0m \u001b[38;5;66;03m# Ensure at least one task is scheduled\u001b[39;00m\n\u001b[0;32m      9\u001b[0m \u001b[38;5;28;01massert\u001b[39;00m \u001b[38;5;28mlen\u001b[39m(schedule) \u001b[38;5;241m==\u001b[39m \u001b[38;5;241m1\u001b[39m\n",
      "Cell \u001b[1;32mIn[79], line 46\u001b[0m, in \u001b[0;36moptimize_schedule\u001b[1;34m(input_data)\u001b[0m\n\u001b[0;32m     44\u001b[0m     \u001b[38;5;28;01mreturn\u001b[39;00m scheduled_tasks\n\u001b[0;32m     45\u001b[0m \u001b[38;5;28;01melse\u001b[39;00m:\n\u001b[1;32m---> 46\u001b[0m     \u001b[38;5;28;01mraise\u001b[39;00m \u001b[38;5;167;01mException\u001b[39;00m(\u001b[38;5;124m\"\u001b[39m\u001b[38;5;124mNo feasible solution found.\u001b[39m\u001b[38;5;124m\"\u001b[39m)\n",
      "\u001b[1;31mException\u001b[0m: No feasible solution found."
     ]
    }
   ],
   "source": [
    "test_single_task_within_deadline()"
   ]
  },
  {
   "cell_type": "code",
   "execution_count": null,
   "id": "39238ff5-10a5-438a-b220-a6e6949dd3bf",
   "metadata": {},
   "outputs": [],
   "source": []
  }
 ],
 "metadata": {
  "kernelspec": {
   "display_name": "Python 3 (ipykernel)",
   "language": "python",
   "name": "python3"
  },
  "language_info": {
   "codemirror_mode": {
    "name": "ipython",
    "version": 3
   },
   "file_extension": ".py",
   "mimetype": "text/x-python",
   "name": "python",
   "nbconvert_exporter": "python",
   "pygments_lexer": "ipython3",
   "version": "3.8.18"
  }
 },
 "nbformat": 4,
 "nbformat_minor": 5
}
